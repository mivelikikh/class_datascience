{
 "cells": [
  {
   "cell_type": "markdown",
   "id": "b2386e79-24ac-4c7a-a50f-8f3e635620d1",
   "metadata": {},
   "source": [
    "# Statistics and Data Science: Exercises library"
   ]
  },
  {
   "cell_type": "markdown",
   "id": "fb4f6003-3339-4849-9606-cb0aba509010",
   "metadata": {},
   "source": [
    "## Data normalization with Euclidean norm\n",
    "\n",
    "A very common operation is to transform you data by normalization. Imagine you have a list of data points $x=$`[21.4,45.7,38.5,76.4,61.9,43.4,52.6,27.2]` and you want to normalize your data using the [Euclidean norm](https://en.wikipedia.org/wiki/Norm_(mathematics)#Euclidean_norm), i.e., convert the data between 0 and 1 with the following operation:\n",
    "\n",
    "$\\hat{x}_{i} = \\frac{x_{i}}{||x||}$\n",
    "\n",
    "where: $||x||=\\sqrt{x_1^2+...+x_n^2}$\n",
    "\n",
    "Normalization is common (necessary) when you deal with several variables that have very different scales.\n",
    "\n",
    "- Using list comprehension, create a new list with normalized $x$ using the Euclidean norm. "
   ]
  },
  {
   "cell_type": "code",
   "execution_count": null,
   "id": "b2643148-fd51-4a11-b397-ba37a5b3a980",
   "metadata": {},
   "outputs": [],
   "source": []
  },
  {
   "cell_type": "markdown",
   "id": "e842b7de-175d-4284-938f-9721098b00ac",
   "metadata": {},
   "source": [
    "## Data cleaning with comprehension\n",
    "\n",
    "Suppose we have the following list: $x=$`[21.4, 'NaN', 45.7,38.5,76.4,61.9, 'NaN', 43.4,52.6,27.2]`. Unfortunately we have some `'NaN'` values (Not a Number).\n",
    "\n",
    "- Clean your list, dropping `'NaN'` values, using list comprehension"
   ]
  },
  {
   "cell_type": "code",
   "execution_count": null,
   "id": "37c8e867-b27f-4181-a48a-b43c6d1fd767",
   "metadata": {},
   "outputs": [],
   "source": []
  },
  {
   "cell_type": "markdown",
   "id": "1546723c-1373-4a6d-9501-350fab9c9c65",
   "metadata": {},
   "source": [
    "## Data manipulation using dictionary comprehension\n",
    "\n",
    "Comprehension is not only for list, dictionary too! Suppose you have the following dictionary, with the grades of some students on a 0-100 scale:\n",
    "\n",
    "`{'Adam': 72, 'Elena': 91, 'Xiang': 87, 'Julie': 81, 'Takafumi': 79}`\n",
    "\n",
    "- Use dictionary comprehension to convert the grade from the 0-100 scale to the Swiss 0-6 scale.\n",
    "- Use dictionary comprehension to round to the nearest 0.25 (for instance 4.2 should be converted to 4.25). \n",
    "\n",
    "Tips: you can use the `round()` function"
   ]
  },
  {
   "cell_type": "code",
   "execution_count": null,
   "id": "7abf70d8-6d01-4cdc-9b00-1e2cb2303b73",
   "metadata": {},
   "outputs": [],
   "source": []
  },
  {
   "cell_type": "markdown",
   "id": "33090f54-2bba-4337-88b1-ec13d85252b4",
   "metadata": {},
   "source": [
    "## Green Bonds"
   ]
  },
  {
   "cell_type": "markdown",
   "id": "b3d9d8f4-be41-4f26-b9ee-bdcde7698ffa",
   "metadata": {},
   "source": [
    "You have a list of green bonds identifiers: \n",
    "`gb_ID = ['CH843556=S', 'CH843556=', 'CH868037=', 'CH6YT=RR', 'CH30YT=RR', 'CH975519=', 'CH1580323=', 'CH1580323=S', 'CH2452496=S']`\n",
    "\n",
    "- Create a new list with the elements of `gb_ID` but removing the `'='` sign and what follows. For instance 'CH843556=S' should be CH843556\n",
    "- Create a new list selecting the elements of `gb_ID` with nothing after the `'='` sign, i.e. we disregard elements such as 'CH843556=S' \n",
    "\n",
    "Hints: \n",
    "- You can use list comprehension inside another list comprehension.\n",
    "- For the second question, you could use Regular Expressions [RegEx](https://docs.python.org/3/library/re.html). See also this [tutorial](https://www.w3schools.com/python/python_regex.asp)"
   ]
  },
  {
   "cell_type": "code",
   "execution_count": null,
   "id": "d6f7b2f9-409a-4019-bb92-f0a61394907d",
   "metadata": {},
   "outputs": [],
   "source": []
  },
  {
   "cell_type": "markdown",
   "id": "6eca1b60-fc80-4ad3-98f4-d0860db63e06",
   "metadata": {},
   "source": [
    "## Optimizing recursive function\n",
    "\n",
    "During the lecture, we have defined a function to calculate Fibonacci numbers: \n",
    "\n",
    "$F(0)=0$\n",
    "\n",
    "$F(1)=1$\n",
    "\n",
    "$F(n)=F(n-1)+F(n-2)$\n",
    "\n",
    "However, our function was not efficient since we needed to repeat operations. For example, to compute $F(5)$, we needed $F(4)$ and $F(3)$, but to know $F(4)$ we needed to compute $F(3)$ and $F(2)$, and so on. Since Fibonacci numbers were not stored in memory, the function calculated many identical subproblems over and over again.\n",
    "\n",
    "- Design a function that calculate Fibonacci numbers and solves the repetition issue.\n",
    "- Create a list of the first 12 Fibonacci numbers.\n",
    "\n",
    "Hint: you can use a dictionary"
   ]
  },
  {
   "cell_type": "code",
   "execution_count": null,
   "id": "fa47241c-2f9b-45c7-ac05-d3b78e323ef8",
   "metadata": {},
   "outputs": [],
   "source": []
  },
  {
   "cell_type": "markdown",
   "id": "3100ec0b-065c-4076-b493-0206243fb6a2",
   "metadata": {},
   "source": [
    "## Book information\n",
    "\n",
    "We have some information about two books:\n",
    "\n",
    "`(\n",
    "Title = 'Sapiens: A Brief History of Humankind', \n",
    "Author = 'Yuval Noah Harari',\n",
    "Year = 2011,\n",
    "Language = 'Hebrew',\n",
    "ISBN = '978-0062316097')`\n",
    "\n",
    "`(\n",
    "Title = 'Les Racines du ciel',\n",
    "Author = 'Romain Gary',\n",
    "Year = 1956,\n",
    "Publisher = 'Gallimard'\n",
    ")`\n",
    "\n",
    "As you can see, the information we have differs.\n",
    "\n",
    "- Write a function that prints for each key: 'The (key) is (value).'. The key should be in lower cases, except the ISBN number.\n",
    "- Call your function with our two books.\n",
    "\n",
    "For instance, the output for the second book should look like this:\n",
    "\n",
    "The title is Les Racines du ciel.\n",
    "The author is Romain Gary.\n",
    "The year is 1956.\n",
    "The publisher is Gallimard.\n",
    "\n",
    "Hint: Try to use arbitrary keyword argument `**kwarg` and the format string method"
   ]
  },
  {
   "cell_type": "code",
   "execution_count": null,
   "id": "97afc217-2b11-4bbb-840a-5f4c9577d193",
   "metadata": {},
   "outputs": [],
   "source": []
  }
 ],
 "metadata": {
  "kernelspec": {
   "display_name": "Python 3",
   "language": "python",
   "name": "python3"
  },
  "language_info": {
   "codemirror_mode": {
    "name": "ipython",
    "version": 3
   },
   "file_extension": ".py",
   "mimetype": "text/x-python",
   "name": "python",
   "nbconvert_exporter": "python",
   "pygments_lexer": "ipython3",
   "version": "3.9.4"
  }
 },
 "nbformat": 4,
 "nbformat_minor": 5
}
