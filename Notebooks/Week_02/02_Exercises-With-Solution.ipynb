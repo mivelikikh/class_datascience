{
 "cells": [
  {
   "cell_type": "markdown",
   "id": "b2386e79-24ac-4c7a-a50f-8f3e635620d1",
   "metadata": {},
   "source": [
    "# Statistics and Data Science: Python Basics Exercises"
   ]
  },
  {
   "cell_type": "markdown",
   "id": "02f25f43-7918-4257-ae95-14051258788f",
   "metadata": {},
   "source": [
    "## Exercise 1: From strings to numbers\n",
    "\n",
    "- Create a variable `my_float` storing the `float` number of your choice.\n",
    "- Convert your `float` into a `string`, and store this `string` into a variable `my_str`\n",
    "- Convert back your `string` into a `float`, and store it into a variable `my_float_2`\n",
    "- Print `my_float`, `my_str`, and `my_float_2`, and the types of each variable."
   ]
  },
  {
   "cell_type": "code",
   "execution_count": 10,
   "id": "30aa8097-cdf9-4c9f-b461-bd6ab88b278f",
   "metadata": {},
   "outputs": [
    {
     "name": "stdout",
     "output_type": "stream",
     "text": [
      "<class 'float'> 75.89 <class 'str'> 75.89 <class 'float'> 75.89\n"
     ]
    }
   ],
   "source": [
    "my_float   = 75.89\n",
    "my_str     = str(my_float)\n",
    "my_float_2 = float(my_str)\n",
    "\n",
    "print(type(my_float), my_float, type(my_str), my_str, type(my_float_2), my_float_2)"
   ]
  },
  {
   "cell_type": "markdown",
   "id": "fb4f6003-3339-4849-9606-cb0aba509010",
   "metadata": {},
   "source": [
    "## Exercise 2: Combining strings and numbers\n",
    "\n",
    "- Create a variable `last_name` with your last name and a variable `first_name` with your first name. \n",
    "- Create a variable `age` storing your age (as an integer).\n",
    "- Create a string variable `background` with your field of study during your bachelor, e.g., economics, environmental sciences, etc.\n",
    "- Print a string where you present yourself, using the variables you previously created. You should get something like: `'My name is Adam Smith. I am 199 years old. I studied moral philosophy'`"
   ]
  },
  {
   "cell_type": "code",
   "execution_count": 16,
   "id": "9274be3a-f50e-48fa-8d8e-f447622154b6",
   "metadata": {},
   "outputs": [
    {
     "name": "stdout",
     "output_type": "stream",
     "text": [
      "My name is Adam Smith. I am 199 years old. I studied moral philosophy\n"
     ]
    }
   ],
   "source": [
    "last_name = 'Smith'\n",
    "first_name = 'Adam'\n",
    "age = 199\n",
    "background = 'moral philosophy'\n",
    "\n",
    "presentation = 'My name is ' + first_name + ' ' + last_name + '. I am ' + str(age) + ' years old. I studied ' + background\n",
    "print(presentation)"
   ]
  },
  {
   "cell_type": "markdown",
   "id": "7ea52912-3086-47b1-89d1-2eaae2066e0f",
   "metadata": {},
   "source": [
    "## Exercice 3: Modular exponentiation\n",
    "\n",
    "[Modular exponentiation](https://en.wikipedia.org/wiki/Modular_exponentiation) is exponentiation performed over a modulus. It is useful in computer science, for example in cryptography algorithms such as [Diffie-Hellman Key Exchange](https://en.wikipedia.org/wiki/Diffie%E2%80%93Hellman_key_exchange) and [RSA public/private keys](https://en.wikipedia.org/wiki/RSA_(cryptosystem)).\n",
    "\n",
    "Let's take an example: $7^{2} \\; mod \\; 9 = 49 \\; mod \\; 9 = 4$ because $49 = 9*5 + 4$\n",
    "\n",
    "- Compute $5^{13} \\; mod \\; 13$ and $10^{13} \\; mod \\; 13$. What do you observe?\n",
    "- Compute $4^{6} \\; mod \\; 7$ and $15^{6} \\; mod \\; 7$. What do you observe?\n",
    "\n",
    "If you wish to understand the general case, check [Fermat's little theorem](https://en.wikipedia.org/wiki/Fermat%27s_little_theorem)"
   ]
  },
  {
   "cell_type": "code",
   "execution_count": 13,
   "id": "0e0820a7-39f0-4ed5-83b6-8e389beaef20",
   "metadata": {},
   "outputs": [
    {
     "name": "stdout",
     "output_type": "stream",
     "text": [
      "5\n",
      "10\n"
     ]
    }
   ],
   "source": [
    "print(5**13 % 13)\n",
    "print(10**13 % 13)"
   ]
  },
  {
   "cell_type": "code",
   "execution_count": 15,
   "id": "7852a411-21df-455b-a608-c8cbe69c9c66",
   "metadata": {},
   "outputs": [
    {
     "name": "stdout",
     "output_type": "stream",
     "text": [
      "1\n",
      "1\n"
     ]
    }
   ],
   "source": [
    "print(4**6 % 7)\n",
    "print(15**6 % 7)"
   ]
  },
  {
   "cell_type": "markdown",
   "id": "c809460a-d828-454a-bccb-9c6226601914",
   "metadata": {},
   "source": [
    "In our examples, $a^{p} \\; mod \\; p = a$ and $a^{p-1} \\; mod \\; p = 1$. \n",
    "This is true when $p$ is a prime number in the first case, and $a$ is not divisible by $p$ and $p$ is prime in the second case. This result is the Fermat's little theorem. "
   ]
  },
  {
   "cell_type": "markdown",
   "id": "77d74af3-be0b-468d-8b78-b5e9daa6ea90",
   "metadata": {},
   "source": [
    "## Exercise 4: Pro-environmental behaviors and environmental knowledge\n",
    "\n",
    "We have seen during the class that moral individuals cooperate in a social dilemma (e.g., perform a pro-environmental action) when their social benefit weighted by their degree of morality is greater than their individual cost of acting weighted by their degree of selfishness.\n",
    "\n",
    "However, there was a key assumption behind this result: we assumed that individuals had a perfect knowledge of environmental issues, of the cost of pollution, and thus of the benefits of not polluting. Obviously, in reality, many individuals are poorly informed about environmental issues. Actually, even informed individuals do not have a full understanding of the impacts of pollution. Think about climate change: the impacts are future, there are lots of uncertainties for example regarding catastrophic events (flood, drought), and many impacts are still unknown or not measured, for instance biodiversity loss.\n",
    "\n",
    "We can update our condition for cooperation based on the (environmental) knowledge of individual. Let's call $\\Omega \\in [0,1]$ the knowledge level, $\\kappa$ the degree of morality, $SB$ the social benefit, and $IC$ the individual cost of acting. An individual will cooperate if and only if:\n",
    "\n",
    "$\\kappa * \\Omega * SB \\geq (1-\\kappa) * IC$\n",
    "\n",
    "- Consider two individuals, Jordane and Florence, involved in a social dilemma where $IC=1$, $SB=3$. They both have the same degree of morality $\\kappa = 0.3$. However, Florence's environmental-knowledge level is $\\Omega_{F}=0.9$ and Jordane's environmental-knowledge level is $\\Omega_{J}=0.7$. Write a `if` statement that prints who is performing an environmental-friendly action. The output should be: `'Florence and Jordane perform an environmental-friendly action'`, `'Only Florence performs an environmental-friendly action'`, `'Only Jordane performs an environmental-friendly action'`, and `'Neither Florence nor Jordane perform an environmental-friendly action'`.  "
   ]
  },
  {
   "cell_type": "code",
   "execution_count": 1,
   "id": "aab16f11-7610-42f7-8b04-278b941a2eea",
   "metadata": {},
   "outputs": [
    {
     "name": "stdout",
     "output_type": "stream",
     "text": [
      "Only Florence performs an environmental-friendly action.\n"
     ]
    }
   ],
   "source": [
    "cost = 1            # individual cost \n",
    "benefit = 3         # social benefit\n",
    "kappa = 0.3         # degree of morality\n",
    "omega_F = 0.9       # Florence environmental knowledge\n",
    "omega_J = 0.7       # Jordane environmental knowledge\n",
    "env = 'an environmental-friendly action.'\n",
    "\n",
    "# condition for cooperation: \n",
    "# social benefit times education level times kappa is greater than individual cost times (1-kappa)\n",
    "\n",
    "if benefit*omega_F*kappa >= cost*(1-kappa) and benefit*omega_J*kappa >= cost*(1-kappa):\n",
    "    print('Florence and Jordane perform '+env)\n",
    "elif benefit*omega_F*kappa >= cost*(1-kappa) and benefit*omega_J*kappa < cost*(1-kappa):\n",
    "    print('Only Florence performs '+env)\n",
    "elif benefit*omega_F*kappa < cost*(1-kappa) and benefit*omega_J*kappa >= cost*(1-kappa):\n",
    "    print('Only Jordane performs '+env)\n",
    "else:\n",
    "    print('Neither Florence nor Jordane perform '+env)"
   ]
  },
  {
   "cell_type": "markdown",
   "id": "95c7aa4d-9cb4-407d-bdd1-d2c512279cbf",
   "metadata": {},
   "source": [
    "## Exercise 5: Pro-environmental behaviors and financial incentives\n",
    "\n",
    "Exercise 4 illustrated that the level of environmental knowledge plays a key role in individuals' decision-making. What can policy-makers do to promote pro-environmental behaviors? One option is to rely on financial instruments, such as fines, taxes, and subsidies. For example, in many countries, there exists subsidies to enhance energy efficiency in buildings (e.g., insulation, efficient boilers and electric appliances), renewable energy installation (e.g., photovoltaic, solar thermal, heat pump), and clean transport (e.g., electric and hybrid cars).\n",
    "\n",
    "We can update our condition for cooperation when we introduce a subsidy. Let's call $\\tau$ the subsidy, $\\Omega \\in [0,1]$ the knowledge level, $\\kappa$ the degree of morality, $SB$ the social benefit, and $IC$ the individual cost of acting. An individual will cooperate if and only if:\n",
    "\n",
    "$\\kappa * \\Omega * (SB+\\tau) \\geq (1-\\kappa) * (IC-\\tau)$\n",
    "\n",
    "- Consider the same social dilemma as before ($IC=1$, $SB=3$). Charles is an individual with degree of morality $\\kappa = 0.3$ and environmental-knowledge $\\Omega=0.5$. You are a policy-maker. Your objective is that Charles performs an pro-environmental action, but you hesitate between different level of subsidies $\\tau = (0, 0.25, 0.5, 0.75, 1)$. Write a `for` loop that prints whether of not each subsidy level is sufficient to trigger cooperation. For example, for a level of subsidy of 0.5, the output should either be `'A level of subsidy of 0.5 is not sufficient to promote pro-environmental action'` or `'A level of subsidy of 0.5 is sufficient to promote pro-environmental action'`. "
   ]
  },
  {
   "cell_type": "code",
   "execution_count": 13,
   "id": "cae899a2-4918-4df7-a170-31a91183f7d8",
   "metadata": {},
   "outputs": [
    {
     "name": "stdout",
     "output_type": "stream",
     "text": [
      "A level of subsidy of 0 is not sufficient to promote pro-environmental action.\n",
      "A level of subsidy of 0.25 is not sufficient to promote pro-environmental action.\n",
      "A level of subsidy of 0.5 is sufficient to promote pro-environmental action.\n",
      "A level of subsidy of 0.75 is sufficient to promote pro-environmental action.\n",
      "A level of subsidy of 1 is sufficient to promote pro-environmental action.\n"
     ]
    }
   ],
   "source": [
    "cost = 1            # individual cost \n",
    "benefit = 3         # social benefit\n",
    "kappa = 0.3         # degree of morality\n",
    "omega = 0.5         # environmental knowledge\n",
    "start = 'A level of subsidy of '\n",
    "end = 'sufficient to promote pro-environmental action.'\n",
    "\n",
    "subsidy_level = (0, 0.25, 0.5, 0.75, 1)     # tuple of subsidy level\n",
    "\n",
    "for _, tau in enumerate(subsidy_level):\n",
    "    if kappa*omega*(benefit + tau) >= (1-kappa)*(cost-tau):\n",
    "        print(start+str(tau)+' is '+end)\n",
    "    else:\n",
    "        print(start+str(tau)+' is not '+end)"
   ]
  },
  {
   "cell_type": "code",
   "execution_count": 14,
   "id": "24e616f6-dd09-448c-86ad-2cbc2732839a",
   "metadata": {},
   "outputs": [
    {
     "name": "stdout",
     "output_type": "stream",
     "text": [
      "A level of subsidy of 0 is not sufficient to promote pro-environmental action.\n",
      "A level of subsidy of 0.25 is not sufficient to promote pro-environmental action.\n",
      "A level of subsidy of 0.5 is sufficient to promote pro-environmental action.\n",
      "A level of subsidy of 0.75 is sufficient to promote pro-environmental action.\n",
      "A level of subsidy of 1 is sufficient to promote pro-environmental action.\n"
     ]
    }
   ],
   "source": [
    "# Here is an alternative. \n",
    "# Since we do not need the index, we can directly iterate over our tuple\n",
    "\n",
    "for tau in subsidy_level:\n",
    "    if kappa*omega*(benefit + tau) >= (1-kappa)*(cost-tau):\n",
    "        print(start+str(tau)+' is '+end)\n",
    "    else:\n",
    "        print(start+str(tau)+' is not '+end)"
   ]
  },
  {
   "cell_type": "markdown",
   "id": "564fc588-0afb-4175-9699-91e478ff29a2",
   "metadata": {},
   "source": [
    "## Exercise 6: Crowding out moral motives\n",
    "\n",
    "Exercise 5 illustrated how financial incentives can be effective in promoting cooperation. But (there is always a but), we made a crucial assumption to obtain our result. Can you guess what is this key assumption?\n",
    "\n",
    "We assumed that when we introduced a financial incentive, everything else remained the same. More precisely, we assumed that the implementation of financial incentives would not affect individuals' morality. In reality, many empirical studies show that the introduction of financial incentives can crowd out moral motives. One of the most famous study is from Gneezy and Rustichini (2000). In a field-study in day-care centers, they have shown that the introduction of a fine for parents arriving late to collect their children significantly increased the number of late-coming parents. Even worse, the effect was not reversible: after the fine was removed, no reduction occurred. Similar effects have been observed for environmental policy, suggesting that putting a price on Nature can lead individuals to leave the \"moral sphere\" towards the \"economic sphere\". In our model, this implies a decrease of the degree of morality. \n",
    "\n",
    "- Consider the same social dilemma as before ($IC=1$, $SB=3$), and our individual Charles with environmental-knowledge $\\Omega=0.5$. However, because we introduced a financial incentives, the degree of morality of Charles is now $\\kappa = 0.2$. Find the lowest subsidy $\\tau$ that would make Charles cooperate. \n",
    "\n",
    "Note: the condition for cooperation is still the same: \n",
    "$\\kappa * \\Omega * (SB+\\tau) \\geq (1-\\kappa) * (IC-\\tau)$"
   ]
  },
  {
   "cell_type": "code",
   "execution_count": 26,
   "id": "1de70130-5027-446d-b553-04951995e7a1",
   "metadata": {},
   "outputs": [
    {
     "name": "stdout",
     "output_type": "stream",
     "text": [
      "The lowest subsidy level allowing cooperation is 0.5600000000000003\n"
     ]
    }
   ],
   "source": [
    "cost = 1            # individual cost \n",
    "benefit = 3         # social benefit\n",
    "kappa = 0.2         # degree of morality\n",
    "omega = 0.5         # environmental knowledge\n",
    "\n",
    "# Initialize sequence index\n",
    "tau = 0               # subsidy level\n",
    "\n",
    "while kappa*omega*(benefit + tau) < (1-kappa)*(cost-tau):     # condition for not cooperating \n",
    "    tau+=0.01\n",
    "\n",
    "print('The lowest subsidy level allowing cooperation is '+str(tau))"
   ]
  },
  {
   "cell_type": "markdown",
   "id": "0358a1b3-48b4-43ee-96ff-3f272b36a791",
   "metadata": {},
   "source": [
    "## Exercise 7: Threshold degree of morality\n",
    "\n",
    "Let's take a step back and look at our initial condition for cooperation, with perfect environmental knowledge and no financial incentives:\n",
    "\n",
    "$\\kappa * SB \\geq (1-\\kappa) * IC$\n",
    "\n",
    "It is possible to find analytically the minimum degree of morality allowing for cooperation. This threshold degree of morality is:\n",
    "\n",
    "$\\kappa_0 = \\frac{IC}{IC+SB}$\n",
    "\n",
    "- Define a function `'threshold_morality()'` taking as arguments the individual cost and social benefit and returning the threshold degree of morality.\n",
    "- Find the threshold degree of morality when ($IC=1$, $SB=4$), ($IC=2$, $SB=4$), and ($IC=3$, $SB=5$).Tips: instead of calling three times your function with different arguments, you could create two tuples, one with individual costs, the other with social benefits, and iterate over your two tuples using the function `zip()`."
   ]
  },
  {
   "cell_type": "code",
   "execution_count": 35,
   "id": "8d2d4337-ac2e-451c-9dc2-b6d01f36c2fe",
   "metadata": {},
   "outputs": [],
   "source": [
    "def threshold_morality(cost,benefit):\n",
    "    '''This function computes the threshold degree of morality\n",
    "    allowing for cooperation in a social dilemma, \n",
    "    with a given individual cost and social benefit.'''\n",
    "    return cost/(cost+benefit)"
   ]
  },
  {
   "cell_type": "code",
   "execution_count": 41,
   "id": "19a386d7-a0c8-45f5-a414-0ed874bc8a2d",
   "metadata": {},
   "outputs": [
    {
     "name": "stdout",
     "output_type": "stream",
     "text": [
      "The threshold degree of morality is 0.2 when the individual cost is 1 and the social benefit is 4\n",
      "The threshold degree of morality is 0.3333333333333333 when the individual cost is 2 and the social benefit is 4\n",
      "The threshold degree of morality is 0.375 when the individual cost is 3 and the social benefit is 5\n"
     ]
    }
   ],
   "source": [
    "ind_cost = (1,2,3)         # individual cost\n",
    "soc_benefit = (4,4,5)      # social benefit\n",
    "\n",
    "for c,s in zip(ind_cost, soc_benefit):\n",
    "    print('The threshold degree of morality is '+ str(threshold_morality(c,s)) + \\\n",
    "          ' when the individual cost is '+str(c)+' and the social benefit is '+str(s))"
   ]
  }
 ],
 "metadata": {
  "kernelspec": {
   "display_name": "Python 3",
   "language": "python",
   "name": "python3"
  },
  "language_info": {
   "codemirror_mode": {
    "name": "ipython",
    "version": 3
   },
   "file_extension": ".py",
   "mimetype": "text/x-python",
   "name": "python",
   "nbconvert_exporter": "python",
   "pygments_lexer": "ipython3",
   "version": "3.9.4"
  }
 },
 "nbformat": 4,
 "nbformat_minor": 5
}
